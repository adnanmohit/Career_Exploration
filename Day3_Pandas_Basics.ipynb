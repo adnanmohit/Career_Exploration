{
  "nbformat": 4,
  "nbformat_minor": 0,
  "metadata": {
    "colab": {
      "provenance": [],
      "authorship_tag": "ABX9TyPocwua8fyZ8ixIo3OXnum0",
      "include_colab_link": true
    },
    "kernelspec": {
      "name": "python3",
      "display_name": "Python 3"
    },
    "language_info": {
      "name": "python"
    }
  },
  "cells": [
    {
      "cell_type": "markdown",
      "metadata": {
        "id": "view-in-github",
        "colab_type": "text"
      },
      "source": [
        "<a href=\"https://colab.research.google.com/github/adnanmohit/Career_Exploration/blob/main/Day3_Pandas_Basics.ipynb\" target=\"_parent\"><img src=\"https://colab.research.google.com/assets/colab-badge.svg\" alt=\"Open In Colab\"/></a>"
      ]
    },
    {
      "cell_type": "code",
      "execution_count": 112,
      "metadata": {
        "id": "Cx_WCep-T_KZ"
      },
      "outputs": [],
      "source": [
        "import pandas as pd\n",
        "import numpy as np"
      ]
    },
    {
      "cell_type": "code",
      "source": [
        "###create and explore simple dataframe\n",
        "data = {\n",
        "    \"Name\": [\"Adnan\",\"Sara\",\"Rahim\",\"Maruf\"],\n",
        "    \"Age\": [24,19,26,23],\n",
        "    \"Marks\":[56,89,87,78]\n",
        "}\n",
        "\n",
        "df=pd.DataFrame(data)\n",
        "print(df)"
      ],
      "metadata": {
        "colab": {
          "base_uri": "https://localhost:8080/"
        },
        "id": "VmPxe3phZalh",
        "outputId": "805e847d-f361-486b-dacb-ab0c4bd0ab1f"
      },
      "execution_count": 113,
      "outputs": [
        {
          "output_type": "stream",
          "name": "stdout",
          "text": [
            "    Name  Age  Marks\n",
            "0  Adnan   24     56\n",
            "1   Sara   19     89\n",
            "2  Rahim   26     87\n",
            "3  Maruf   23     78\n"
          ]
        }
      ]
    },
    {
      "cell_type": "code",
      "source": [
        "###Explore data\n",
        "print(df.head())\n",
        "print(df.tail())\n",
        "print(df.describe())\n",
        "print(df.shape)\n",
        "print(df.info())"
      ],
      "metadata": {
        "colab": {
          "base_uri": "https://localhost:8080/"
        },
        "id": "HF27-uSmaPVR",
        "outputId": "5704ce17-a077-41f6-a5b7-dcd57b667ef6"
      },
      "execution_count": 114,
      "outputs": [
        {
          "output_type": "stream",
          "name": "stdout",
          "text": [
            "    Name  Age  Marks\n",
            "0  Adnan   24     56\n",
            "1   Sara   19     89\n",
            "2  Rahim   26     87\n",
            "3  Maruf   23     78\n",
            "    Name  Age  Marks\n",
            "0  Adnan   24     56\n",
            "1   Sara   19     89\n",
            "2  Rahim   26     87\n",
            "3  Maruf   23     78\n",
            "            Age      Marks\n",
            "count   4.00000   4.000000\n",
            "mean   23.00000  77.500000\n",
            "std     2.94392  15.110703\n",
            "min    19.00000  56.000000\n",
            "25%    22.00000  72.500000\n",
            "50%    23.50000  82.500000\n",
            "75%    24.50000  87.500000\n",
            "max    26.00000  89.000000\n",
            "(4, 3)\n",
            "<class 'pandas.core.frame.DataFrame'>\n",
            "RangeIndex: 4 entries, 0 to 3\n",
            "Data columns (total 3 columns):\n",
            " #   Column  Non-Null Count  Dtype \n",
            "---  ------  --------------  ----- \n",
            " 0   Name    4 non-null      object\n",
            " 1   Age     4 non-null      int64 \n",
            " 2   Marks   4 non-null      int64 \n",
            "dtypes: int64(2), object(1)\n",
            "memory usage: 228.0+ bytes\n",
            "None\n"
          ]
        }
      ]
    },
    {
      "cell_type": "code",
      "source": [
        "print(df.head())"
      ],
      "metadata": {
        "colab": {
          "base_uri": "https://localhost:8080/"
        },
        "id": "4U72lTTTlXBT",
        "outputId": "bce9b37b-03d4-496a-97e2-5543f4c38d65"
      },
      "execution_count": 115,
      "outputs": [
        {
          "output_type": "stream",
          "name": "stdout",
          "text": [
            "    Name  Age  Marks\n",
            "0  Adnan   24     56\n",
            "1   Sara   19     89\n",
            "2  Rahim   26     87\n",
            "3  Maruf   23     78\n"
          ]
        }
      ]
    },
    {
      "cell_type": "code",
      "source": [
        "print(df.size)"
      ],
      "metadata": {
        "colab": {
          "base_uri": "https://localhost:8080/"
        },
        "id": "L0KUymejlqE3",
        "outputId": "c231ac46-8a8a-4425-8077-6c21b51bf488"
      },
      "execution_count": 116,
      "outputs": [
        {
          "output_type": "stream",
          "name": "stdout",
          "text": [
            "12\n"
          ]
        }
      ]
    },
    {
      "cell_type": "code",
      "source": [
        "print(df.info())"
      ],
      "metadata": {
        "colab": {
          "base_uri": "https://localhost:8080/"
        },
        "id": "ryRq6J3alt80",
        "outputId": "9eb43e13-71a4-45f1-c2d3-d8b88a0ad9c4"
      },
      "execution_count": 117,
      "outputs": [
        {
          "output_type": "stream",
          "name": "stdout",
          "text": [
            "<class 'pandas.core.frame.DataFrame'>\n",
            "RangeIndex: 4 entries, 0 to 3\n",
            "Data columns (total 3 columns):\n",
            " #   Column  Non-Null Count  Dtype \n",
            "---  ------  --------------  ----- \n",
            " 0   Name    4 non-null      object\n",
            " 1   Age     4 non-null      int64 \n",
            " 2   Marks   4 non-null      int64 \n",
            "dtypes: int64(2), object(1)\n",
            "memory usage: 228.0+ bytes\n",
            "None\n"
          ]
        }
      ]
    },
    {
      "cell_type": "code",
      "source": [
        "print(df.describe())"
      ],
      "metadata": {
        "colab": {
          "base_uri": "https://localhost:8080/"
        },
        "id": "9kCKzWLhmBXm",
        "outputId": "e037e4ed-4d9d-4686-a8cd-0895768a49ae"
      },
      "execution_count": 103,
      "outputs": [
        {
          "output_type": "stream",
          "name": "stdout",
          "text": [
            "            Age      Marks\n",
            "count   4.00000   4.000000\n",
            "mean   23.00000  77.500000\n",
            "std     2.94392  15.110703\n",
            "min    19.00000  56.000000\n",
            "25%    22.00000  72.500000\n",
            "50%    23.50000  82.500000\n",
            "75%    24.50000  87.500000\n",
            "max    26.00000  89.000000\n"
          ]
        }
      ]
    },
    {
      "cell_type": "code",
      "source": [
        "print(df.tail())"
      ],
      "metadata": {
        "colab": {
          "base_uri": "https://localhost:8080/"
        },
        "id": "LcHnW6ENmun2",
        "outputId": "35e2a14b-5396-4318-be1d-ff2701bc14a7"
      },
      "execution_count": 104,
      "outputs": [
        {
          "output_type": "stream",
          "name": "stdout",
          "text": [
            "    Name  Age  Marks\n",
            "0  Adnan   24     56\n",
            "1   Sara   19     89\n",
            "2  Rahim   26     87\n",
            "3  Maruf   23     78\n"
          ]
        }
      ]
    },
    {
      "cell_type": "code",
      "source": [
        "###accessing data from dataframe\n",
        "print(df[\"Name\"]) #access single column\n",
        "print(df[[\"Age\",\"Marks\"]])"
      ],
      "metadata": {
        "colab": {
          "base_uri": "https://localhost:8080/"
        },
        "id": "mCGRcUpEnVQx",
        "outputId": "91ded798-ee3a-447c-a219-2444ea82c13b"
      },
      "execution_count": 105,
      "outputs": [
        {
          "output_type": "stream",
          "name": "stdout",
          "text": [
            "0    Adnan\n",
            "1     Sara\n",
            "2    Rahim\n",
            "3    Maruf\n",
            "Name: Name, dtype: object\n",
            "   Age  Marks\n",
            "0   24     56\n",
            "1   19     89\n",
            "2   26     87\n",
            "3   23     78\n"
          ]
        }
      ]
    },
    {
      "cell_type": "code",
      "source": [
        "print(df.iloc[0])"
      ],
      "metadata": {
        "colab": {
          "base_uri": "https://localhost:8080/"
        },
        "id": "lm1TCWAOnk3b",
        "outputId": "752ef3f7-e013-4c2c-c635-235c848e0875"
      },
      "execution_count": 106,
      "outputs": [
        {
          "output_type": "stream",
          "name": "stdout",
          "text": [
            "Name     Adnan\n",
            "Age         24\n",
            "Marks       56\n",
            "Name: 0, dtype: object\n"
          ]
        }
      ]
    },
    {
      "cell_type": "code",
      "source": [
        "print(df.loc[2])"
      ],
      "metadata": {
        "colab": {
          "base_uri": "https://localhost:8080/"
        },
        "id": "XTBhOrWYp3jW",
        "outputId": "bc3f685f-e84f-42ea-87e4-25843a932a29"
      },
      "execution_count": 107,
      "outputs": [
        {
          "output_type": "stream",
          "name": "stdout",
          "text": [
            "Name     Rahim\n",
            "Age         26\n",
            "Marks       87\n",
            "Name: 2, dtype: object\n"
          ]
        }
      ]
    },
    {
      "cell_type": "code",
      "source": [
        "### Adding columns\n",
        "df[\"Grade\"]= [\"B\",\"A+\",\"A\",\"A+\"]\n",
        "print(df)\n",
        "\n",
        "df[\"Shift\"]= [\"Day\",\"Day\",\"Evening\",\"Day\"]\n",
        "print(df)"
      ],
      "metadata": {
        "colab": {
          "base_uri": "https://localhost:8080/"
        },
        "id": "ipV7MmFRqKDr",
        "outputId": "0937d76f-6a09-4144-80ef-ded56c95261f"
      },
      "execution_count": 108,
      "outputs": [
        {
          "output_type": "stream",
          "name": "stdout",
          "text": [
            "    Name  Age  Marks Grade\n",
            "0  Adnan   24     56     B\n",
            "1   Sara   19     89    A+\n",
            "2  Rahim   26     87     A\n",
            "3  Maruf   23     78    A+\n",
            "    Name  Age  Marks Grade    Shift\n",
            "0  Adnan   24     56     B      Day\n",
            "1   Sara   19     89    A+      Day\n",
            "2  Rahim   26     87     A  Evening\n",
            "3  Maruf   23     78    A+      Day\n"
          ]
        }
      ]
    },
    {
      "cell_type": "code",
      "source": [
        "df[\"New Marks\"] = df[\"Marks\"] + 5\n",
        "print(df)"
      ],
      "metadata": {
        "colab": {
          "base_uri": "https://localhost:8080/"
        },
        "id": "4uJV6c5buGYj",
        "outputId": "9ae72faf-9b07-4bde-a14c-615d59eee38c"
      },
      "execution_count": 109,
      "outputs": [
        {
          "output_type": "stream",
          "name": "stdout",
          "text": [
            "    Name  Age  Marks Grade    Shift  New Marks\n",
            "0  Adnan   24     56     B      Day         61\n",
            "1   Sara   19     89    A+      Day         94\n",
            "2  Rahim   26     87     A  Evening         92\n",
            "3  Maruf   23     78    A+      Day         83\n"
          ]
        }
      ]
    },
    {
      "cell_type": "code",
      "source": [
        "df[\"Greeting\"] = \"Hello \" + df[\"Name\"]"
      ],
      "metadata": {
        "id": "MdWoe_UMvHrc"
      },
      "execution_count": 110,
      "outputs": []
    },
    {
      "cell_type": "code",
      "source": [
        "print(df)"
      ],
      "metadata": {
        "colab": {
          "base_uri": "https://localhost:8080/"
        },
        "id": "HIIdpenOxPtl",
        "outputId": "16eebb6e-a410-4a78-bcc4-9736ca49c8bd"
      },
      "execution_count": 111,
      "outputs": [
        {
          "output_type": "stream",
          "name": "stdout",
          "text": [
            "    Name  Age  Marks Grade    Shift  New Marks     Greeting\n",
            "0  Adnan   24     56     B      Day         61  Hello Adnan\n",
            "1   Sara   19     89    A+      Day         94   Hello Sara\n",
            "2  Rahim   26     87     A  Evening         92  Hello Rahim\n",
            "3  Maruf   23     78    A+      Day         83  Hello Maruf\n"
          ]
        }
      ]
    },
    {
      "cell_type": "code",
      "source": [
        "### filtering in df\n",
        "print(df[df[\"Marks\"]>80])\n",
        "\n",
        "#sort ascending\n",
        "print(df.sort_values(\"Marks\"))\n",
        "\n",
        "#sort descending\n",
        "print(df.sort_values(\"Marks\", ascending=False))"
      ],
      "metadata": {
        "colab": {
          "base_uri": "https://localhost:8080/"
        },
        "id": "m3eP3apXxUkj",
        "outputId": "d92b9fb6-15e2-498f-db03-a2a7bf769513"
      },
      "execution_count": 123,
      "outputs": [
        {
          "output_type": "stream",
          "name": "stdout",
          "text": [
            "    Name  Age  Marks\n",
            "1   Sara   19     89\n",
            "2  Rahim   26     87\n",
            "    Name  Age  Marks\n",
            "0  Adnan   24     56\n",
            "3  Maruf   23     78\n",
            "2  Rahim   26     87\n",
            "1   Sara   19     89\n",
            "    Name  Age  Marks\n",
            "1   Sara   19     89\n",
            "2  Rahim   26     87\n",
            "3  Maruf   23     78\n",
            "0  Adnan   24     56\n"
          ]
        }
      ]
    },
    {
      "cell_type": "code",
      "source": [],
      "metadata": {
        "id": "kFPp4t-G1KeV"
      },
      "execution_count": null,
      "outputs": []
    }
  ]
}
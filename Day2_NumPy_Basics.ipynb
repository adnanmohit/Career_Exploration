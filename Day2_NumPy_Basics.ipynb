{
  "nbformat": 4,
  "nbformat_minor": 0,
  "metadata": {
    "colab": {
      "provenance": [],
      "authorship_tag": "ABX9TyOMoThI1k6oTfMxvCOzUPus",
      "include_colab_link": true
    },
    "kernelspec": {
      "name": "python3",
      "display_name": "Python 3"
    },
    "language_info": {
      "name": "python"
    }
  },
  "cells": [
    {
      "cell_type": "markdown",
      "metadata": {
        "id": "view-in-github",
        "colab_type": "text"
      },
      "source": [
        "<a href=\"https://colab.research.google.com/github/adnanmohit/Career_Exploration/blob/main/Day2_NumPy_Basics.ipynb\" target=\"_parent\"><img src=\"https://colab.research.google.com/assets/colab-badge.svg\" alt=\"Open In Colab\"/></a>"
      ]
    },
    {
      "cell_type": "code",
      "execution_count": null,
      "metadata": {
        "id": "p3jZsUZ-yjOe"
      },
      "outputs": [],
      "source": [
        "import numpy as np"
      ]
    },
    {
      "cell_type": "code",
      "source": [
        "### creating array using numpy\n",
        "arr1 = np.array([1,2,3,4,5])\n",
        "print(arr1)\n",
        "\n",
        "arr2 = np.array([11,12,13,14,15])\n",
        "print(arr2)"
      ],
      "metadata": {
        "colab": {
          "base_uri": "https://localhost:8080/"
        },
        "id": "vV2bViRpy7bb",
        "outputId": "81d73c00-1e82-424e-f543-d4ee724611a9"
      },
      "execution_count": null,
      "outputs": [
        {
          "output_type": "stream",
          "name": "stdout",
          "text": [
            "[1 2 3 4 5]\n",
            "[11 12 13 14 15]\n"
          ]
        }
      ]
    },
    {
      "cell_type": "code",
      "source": [
        "##mini task\n",
        "marks = np.array([78,89,65,87,96])\n",
        "print(marks)"
      ],
      "metadata": {
        "colab": {
          "base_uri": "https://localhost:8080/"
        },
        "id": "kc5kffgwzXQA",
        "outputId": "f0244c23-c979-4a79-9176-128726e188f4"
      },
      "execution_count": null,
      "outputs": [
        {
          "output_type": "stream",
          "name": "stdout",
          "text": [
            "[78 89 65 87 96]\n"
          ]
        }
      ]
    },
    {
      "cell_type": "code",
      "source": [
        "marks = np.array([[78,89,76],[87,75,86]])\n",
        "print(marks)"
      ],
      "metadata": {
        "colab": {
          "base_uri": "https://localhost:8080/"
        },
        "id": "uO-eYQCc3OW_",
        "outputId": "da4f828c-ecaa-4bfa-8be9-4bd55b2f8a16"
      },
      "execution_count": null,
      "outputs": [
        {
          "output_type": "stream",
          "name": "stdout",
          "text": [
            "[[78 89 76]\n",
            " [87 75 86]]\n"
          ]
        }
      ]
    },
    {
      "cell_type": "code",
      "source": [
        "###array properties\n",
        "print(\"Shape:\", marks.shape)\n",
        "print(\"Size:\", marks.size)\n",
        "print(\"Data type:\", marks.dtype)"
      ],
      "metadata": {
        "colab": {
          "base_uri": "https://localhost:8080/"
        },
        "id": "Lu-otOMU3eFL",
        "outputId": "13ac9811-e5c4-47a4-fbcf-4f1dc5ced7df"
      },
      "execution_count": null,
      "outputs": [
        {
          "output_type": "stream",
          "name": "stdout",
          "text": [
            "Shape: (2, 3)\n",
            "Size: 6\n",
            "Data type: int64\n"
          ]
        }
      ]
    },
    {
      "cell_type": "code",
      "source": [
        "print(\"Shape:\", arr2.shape)\n",
        "print(\"Size:\",arr2.size)\n",
        "print(\"Data type:\",arr2.dtype)"
      ],
      "metadata": {
        "id": "TJ6AO9zC5QGJ",
        "colab": {
          "base_uri": "https://localhost:8080/"
        },
        "outputId": "9f12d502-fbf3-4b1f-9b50-8b09c737fa66"
      },
      "execution_count": null,
      "outputs": [
        {
          "output_type": "stream",
          "name": "stdout",
          "text": [
            "Shape: (5,)\n",
            "Size: 5\n",
            "Data type: int64\n"
          ]
        }
      ]
    },
    {
      "cell_type": "code",
      "source": [
        "cgpa = np.array([3.76,3.45,4.00])\n",
        "print(cgpa)"
      ],
      "metadata": {
        "colab": {
          "base_uri": "https://localhost:8080/"
        },
        "id": "SKFqYk6AB5yx",
        "outputId": "182d4aa8-82f3-45df-e91a-9c8654062b82"
      },
      "execution_count": null,
      "outputs": [
        {
          "output_type": "stream",
          "name": "stdout",
          "text": [
            "[3.76 3.45 4.  ]\n"
          ]
        }
      ]
    },
    {
      "cell_type": "code",
      "source": [
        "print(\"Shape:\", cgpa.shape)\n",
        "print(\"Size\", cgpa.size)\n",
        "print(\"Data type\", cgpa.dtype)"
      ],
      "metadata": {
        "colab": {
          "base_uri": "https://localhost:8080/"
        },
        "id": "GFkKm5KfC9kq",
        "outputId": "35841112-434d-4cd3-f60f-06ffbb0c173b"
      },
      "execution_count": null,
      "outputs": [
        {
          "output_type": "stream",
          "name": "stdout",
          "text": [
            "Shape: (3,)\n",
            "Size 3\n",
            "Data type float64\n"
          ]
        }
      ]
    },
    {
      "cell_type": "code",
      "source": [
        "a = np.array([2,6,7])\n",
        "b = np.array([5,8,3])\n",
        "print(a+b)\n",
        "print(a-b)\n",
        "print(a*b)\n",
        "print(a/b)"
      ],
      "metadata": {
        "id": "dhsA1wGhESJL",
        "colab": {
          "base_uri": "https://localhost:8080/"
        },
        "outputId": "dd945812-a8a6-4864-f326-ac4086bb3e1f"
      },
      "execution_count": 13,
      "outputs": [
        {
          "output_type": "stream",
          "name": "stdout",
          "text": [
            "[ 7 14 10]\n",
            "[-3 -2  4]\n",
            "[10 48 21]\n",
            "[0.4        0.75       2.33333333]\n"
          ]
        }
      ]
    },
    {
      "cell_type": "code",
      "source": [
        "###mini task (create 2 array of marks from 2 exam and calculate their average using numpy )\n",
        "\n",
        "x = np.array([70,86,93])\n",
        "y =np.array([86,56,77])\n",
        "\n",
        "##print(\"Average marks: \",x+y/2)\n",
        "print(\"Average marks:\", (x+y)/2)"
      ],
      "metadata": {
        "colab": {
          "base_uri": "https://localhost:8080/"
        },
        "id": "Kt8rX8u9GaEK",
        "outputId": "b3d9301b-00e4-4a96-a458-4b0da7cb3f71"
      },
      "execution_count": 15,
      "outputs": [
        {
          "output_type": "stream",
          "name": "stdout",
          "text": [
            "Average marks: [78. 71. 85.]\n"
          ]
        }
      ]
    },
    {
      "cell_type": "code",
      "source": [
        "arr = np.array([10, 20, 30, 40, 50])\n",
        "print(np.mean(arr))\n",
        "print(np.median(arr))\n",
        "print(np.std(arr))\n",
        "print(np.max(arr))\n",
        "print(np.min(arr))\n",
        "\n",
        "##mini task (Useful numpy operation)\n",
        "np.random.seed(0)\n",
        "array= np.random.randint(1, 100, 10)\n",
        "print(np.mean(array))\n",
        "print(np.min(array))\n",
        "print(np.max(array))"
      ],
      "metadata": {
        "colab": {
          "base_uri": "https://localhost:8080/"
        },
        "id": "XX30aLibHn6r",
        "outputId": "d6b5d19d-f074-4dd2-f531-907446bfbfd9"
      },
      "execution_count": 31,
      "outputs": [
        {
          "output_type": "stream",
          "name": "stdout",
          "text": [
            "30.0\n",
            "30.0\n",
            "14.142135623730951\n",
            "50\n",
            "10\n",
            "53.5\n",
            "10\n",
            "88\n"
          ]
        }
      ]
    },
    {
      "cell_type": "code",
      "source": [
        "##bonus task ( try doing matrix multiplications)\n",
        "\n",
        "a= np.array([8,9,2])\n",
        "b= np.array([5,4,7])\n",
        "\n",
        "print(np.dot(a,b))"
      ],
      "metadata": {
        "colab": {
          "base_uri": "https://localhost:8080/"
        },
        "id": "8EXEuxWsMtov",
        "outputId": "21eba252-43f9-4362-ec02-b22d061f8019"
      },
      "execution_count": 32,
      "outputs": [
        {
          "output_type": "stream",
          "name": "stdout",
          "text": [
            "90\n"
          ]
        }
      ]
    },
    {
      "cell_type": "code",
      "source": [],
      "metadata": {
        "id": "jjqhrG5QRmXt"
      },
      "execution_count": null,
      "outputs": []
    }
  ]
}
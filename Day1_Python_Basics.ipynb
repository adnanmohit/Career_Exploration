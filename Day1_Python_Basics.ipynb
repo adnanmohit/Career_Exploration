{
  "nbformat": 4,
  "nbformat_minor": 0,
  "metadata": {
    "colab": {
      "provenance": [],
      "authorship_tag": "ABX9TyPYL+NCOLt4n1qFSym303c2",
      "include_colab_link": true
    },
    "kernelspec": {
      "name": "python3",
      "display_name": "Python 3"
    },
    "language_info": {
      "name": "python"
    }
  },
  "cells": [
    {
      "cell_type": "markdown",
      "metadata": {
        "id": "view-in-github",
        "colab_type": "text"
      },
      "source": [
        "<a href=\"https://colab.research.google.com/github/adnanmohit/Career_Exploration/blob/main/Day1_Python_Basics.ipynb\" target=\"_parent\"><img src=\"https://colab.research.google.com/assets/colab-badge.svg\" alt=\"Open In Colab\"/></a>"
      ]
    },
    {
      "cell_type": "code",
      "execution_count": null,
      "metadata": {
        "id": "uWYvp17vkeSE",
        "colab": {
          "base_uri": "https://localhost:8080/"
        },
        "outputId": "340d5c32-f030-49fb-ee24-8907b267a4b3"
      },
      "outputs": [
        {
          "output_type": "stream",
          "name": "stdout",
          "text": [
            "Hello Adnan\n"
          ]
        }
      ],
      "source": [
        "print(\"Hello Adnan\")"
      ]
    },
    {
      "cell_type": "code",
      "source": [
        "###create variables\n",
        "\n",
        "#numbers\n",
        "a= 6\n",
        "b= 3\n",
        "\n",
        "#text\n",
        "name = \"Adnan\"\n",
        "name = \"Mohit\""
      ],
      "metadata": {
        "id": "VZb6J5kalgt9"
      },
      "execution_count": null,
      "outputs": []
    },
    {
      "cell_type": "code",
      "source": [
        "###basic operations\n",
        "\n",
        "#addition\n",
        "print(a+b)\n",
        "\n",
        "#subtraction\n",
        "print(a-b)\n",
        "\n",
        "#combine text\n",
        "print(\"Hello \"+name)"
      ],
      "metadata": {
        "id": "ntxo1zBwl4Xw",
        "colab": {
          "base_uri": "https://localhost:8080/"
        },
        "outputId": "1f028e15-01ad-4e70-e6d5-0dee51e7ff78"
      },
      "execution_count": null,
      "outputs": [
        {
          "output_type": "stream",
          "name": "stdout",
          "text": [
            "9\n",
            "3\n",
            "Hello Mohit\n"
          ]
        }
      ]
    },
    {
      "cell_type": "code",
      "source": [
        "###Loops(for,while)\n",
        "\n",
        "#for loops\n",
        "for i in range (4,10):\n",
        "  print(i)\n",
        "\n",
        "for i in range(110,115):\n",
        "  print(i)\n",
        "\n",
        "for a in range(77,81):\n",
        "  print(a)\n",
        "\n",
        "#While loops\n",
        "b=10\n",
        "while b<=15:\n",
        "  print(b)\n",
        "  b+=1\n",
        "\n",
        "n=7\n",
        "while n<=11:\n",
        "  print(n)\n",
        "  n+=2\n",
        "\n",
        "x=17\n",
        "while x>=13:\n",
        "  print(x)\n",
        "  x-=1"
      ],
      "metadata": {
        "colab": {
          "base_uri": "https://localhost:8080/"
        },
        "id": "pvvdc5HtnrL0",
        "outputId": "c11945a9-66c8-4dd7-ff7a-9c1192f673f8"
      },
      "execution_count": null,
      "outputs": [
        {
          "output_type": "stream",
          "name": "stdout",
          "text": [
            "4\n",
            "5\n",
            "6\n",
            "7\n",
            "8\n",
            "9\n",
            "110\n",
            "111\n",
            "112\n",
            "113\n",
            "114\n",
            "77\n",
            "78\n",
            "79\n",
            "80\n",
            "10\n",
            "11\n",
            "12\n",
            "13\n",
            "14\n",
            "15\n",
            "7\n",
            "9\n",
            "11\n",
            "17\n",
            "16\n",
            "15\n",
            "14\n",
            "13\n"
          ]
        }
      ]
    },
    {
      "cell_type": "code",
      "source": [
        "#mini tasks about loops\n",
        "#even numbers from 1 to 10 using for loops\n",
        "\n",
        "for i in range(0,12,2):\n",
        "  print(i)"
      ],
      "metadata": {
        "id": "8ELrHZByoPXT",
        "colab": {
          "base_uri": "https://localhost:8080/"
        },
        "outputId": "1dff9526-ba81-4ed5-cd6f-352cb046ef03"
      },
      "execution_count": null,
      "outputs": [
        {
          "output_type": "stream",
          "name": "stdout",
          "text": [
            "0\n",
            "2\n",
            "4\n",
            "6\n",
            "8\n",
            "10\n"
          ]
        }
      ]
    },
    {
      "cell_type": "code",
      "source": [
        "#even numbers from 1 to 10 using while loops\n",
        "c = 2\n",
        "while c<=10:\n",
        "  print(c)\n",
        "  c+=2"
      ],
      "metadata": {
        "colab": {
          "base_uri": "https://localhost:8080/"
        },
        "id": "7YQQln16rBR4",
        "outputId": "73fccdc1-4d59-4602-fe66-0db52a031611"
      },
      "execution_count": null,
      "outputs": [
        {
          "output_type": "stream",
          "name": "stdout",
          "text": [
            "2\n",
            "4\n",
            "6\n",
            "8\n",
            "10\n"
          ]
        }
      ]
    },
    {
      "cell_type": "code",
      "source": [
        "### Functions\n",
        "#Welcome text\n",
        "def greet(name):\n",
        "  print(\"Hello, \" +name)\n",
        "\n",
        "greet(\"Rubana\")\n",
        "\n",
        "#Addtion function\n",
        "def add_numbers(a,b):\n",
        "  return (a+b)\n",
        "print(add_numbers(10,5))\n",
        "\n",
        "#Subtraction function\n",
        "def subtract_numbers(x,y):\n",
        "  return x-y\n",
        "print (subtract_numbers(55,77))\n",
        "\n",
        "#Multiplication function\n",
        "def  multiply_numbers(c,d):\n",
        "  return c*d\n",
        "print (multiply_numbers(7,7))\n",
        "print (multiply_numbers(8,8))"
      ],
      "metadata": {
        "colab": {
          "base_uri": "https://localhost:8080/"
        },
        "id": "suqsjTgsre8U",
        "outputId": "68b83e43-f508-4c90-d8ae-13bd60166f0a"
      },
      "execution_count": null,
      "outputs": [
        {
          "output_type": "stream",
          "name": "stdout",
          "text": [
            "Hello, Rubana\n",
            "15\n",
            "-22\n",
            "49\n",
            "64\n"
          ]
        }
      ]
    },
    {
      "cell_type": "code",
      "source": [
        "##mini tasks\n",
        "\n",
        "#square function\n",
        "def square(p):\n",
        "  return p*p\n",
        "print(square(7))\n",
        "print(square(5))\n",
        "\n",
        "#cubic function\n",
        "def cubic(m):\n",
        "  return m*m*m\n",
        "print(cubic(2))\n",
        "\n",
        "print(cubic(5))"
      ],
      "metadata": {
        "colab": {
          "base_uri": "https://localhost:8080/"
        },
        "id": "eisKNsbltu7Y",
        "outputId": "e7d34fa5-474d-4674-c0fa-ffe97c2f0107"
      },
      "execution_count": null,
      "outputs": [
        {
          "output_type": "stream",
          "name": "stdout",
          "text": [
            "49\n",
            "25\n",
            "8\n",
            "125\n"
          ]
        }
      ]
    },
    {
      "cell_type": "code",
      "source": [],
      "metadata": {
        "id": "frNaruH_zPA3"
      },
      "execution_count": null,
      "outputs": []
    }
  ]
}